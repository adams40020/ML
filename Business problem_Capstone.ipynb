{
 "cells": [
  {
   "cell_type": "markdown",
   "metadata": {},
   "source": [
    "**Business Problem**"
   ]
  },
  {
   "cell_type": "markdown",
   "metadata": {},
   "source": [
    "One of Italian food chain (XYZ) is looking for expansion in Asian region specifically in South East Asia & India. Currently, management team is looking into different aspects such as how many Italian restaurants are already running & how are they performing. XYZ will consider 2 or 3 cities in phase-1 & subsequently will consider as much as in another 5 years. For initial study, XYZ is looking for geo-wise analysis in such a way that they can shortlist some of cities for budgetary approvals. Further, depending upon the feedback of phase-1 analysis, one may be hired again for phase-2 analysis. "
   ]
  }
 ],
 "metadata": {
  "kernelspec": {
   "display_name": "Python 3",
   "language": "python",
   "name": "python3"
  },
  "language_info": {
   "codemirror_mode": {
    "name": "ipython",
    "version": 3
   },
   "file_extension": ".py",
   "mimetype": "text/x-python",
   "name": "python",
   "nbconvert_exporter": "python",
   "pygments_lexer": "ipython3",
   "version": "3.7.1"
  }
 },
 "nbformat": 4,
 "nbformat_minor": 2
}
