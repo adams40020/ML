{
 "cells": [
  {
   "cell_type": "markdown",
   "metadata": {},
   "source": [
    "**Data Sources**"
   ]
  },
  {
   "cell_type": "markdown",
   "metadata": {},
   "source": [
    "In my analysis, I will be considering Singapore, Jakarta, Mumbai & Bangalore as key locations because of major business presence & thus driving cross-continent food habits. I will consider forsquare APIs to search key venues, trending ones, & specific italian restaurant. Some of API syntax as follows:\n",
    "\n",
    "Extract all key venues in a radius parameter of 3000:\n",
    "https://api.foursquare.com/v2/venues/explore?client_id={}&client_secret={}&ll={}&v{}&limit=3000&radius=3000'\n",
    "\n",
    "Extract trending venues, to check if our query for Italian food is one of them:\n",
    "https://api.foursquare.com/v2/venues/trending?client_id={}&client_secret={}&ll={}&v={}&limit=3000&radius=3000'\n",
    "\n",
    "Extract all Italian venues:\n",
    "https://api.foursquare.com/v2/venues/search?client_id={}&client_secret={}&ll={}&v={}&query=Italian&limit=3000&radius=3000'\n",
    "\n",
    "Extract venue rating, tips related info:\n",
    "https://api.foursquare.com/v2/venues/venue_id?{}?client_id={}&client_secret={}&v={}\n",
    "\n",
    "All APIs will be used for 4 locations, & analysed using folium to check density, & then, reccomend two locations to XYZ."
   ]
  }
 ],
 "metadata": {
  "kernelspec": {
   "display_name": "Python 3",
   "language": "python",
   "name": "python3"
  },
  "language_info": {
   "codemirror_mode": {
    "name": "ipython",
    "version": 3
   },
   "file_extension": ".py",
   "mimetype": "text/x-python",
   "name": "python",
   "nbconvert_exporter": "python",
   "pygments_lexer": "ipython3",
   "version": "3.7.1"
  }
 },
 "nbformat": 4,
 "nbformat_minor": 2
}
