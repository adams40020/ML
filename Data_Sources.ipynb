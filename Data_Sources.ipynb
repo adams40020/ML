{
 "cells": [
  {
   "cell_type": "markdown",
   "metadata": {},
   "source": [
    "**Data Sources**"
   ]
  },
  {
   "cell_type": "markdown",
   "metadata": {},
   "source": [
    "In my analysis, I will be considering Singapore, Jakarta, Mumbai & Bangalore as key locations because of major business presence & thus driving cross-continent food habits. I will consider forsquare APIs to search key venues, trending ones, & specific italian restaurant. Some of API syntax as follows:\n",
    "\n",
    "1) Extract all key venues in a radius parameter of 3000:\n",
    "https://api.foursquare.com/v2/venues/explore?client_id={}&client_secret={}&ll={}&v{}&limit=3000&radius=3000'\n",
    "\n",
    "2) Extract trending venues, to check if our query for Italian food is one of them:\n",
    "https://api.foursquare.com/v2/venues/trending?client_id={}&client_secret={}&ll={}&v={}&limit=3000&radius=3000'\n",
    "\n",
    "3) Extract all Italian venues:\n",
    "https://api.foursquare.com/v2/venues/search?client_id={}&client_secret={}&ll={}&v={}&query=Italian&limit=3000&radius=3000'\n",
    "\n",
    "4) Extract venue rating, tips related info:\n",
    "https://api.foursquare.com/v2/venues/venue_id?{}?client_id={}&client_secret={}&v={}\n",
    "\n",
    "All APIs will be used for 4 locations, & analysed using folium to check density, & then, reccomend two locations to XYZ."
   ]
  },
  {
   "cell_type": "code",
   "execution_count": 1,
   "metadata": {},
   "outputs": [
    {
     "name": "stdout",
     "output_type": "stream",
     "text": [
      "Your credentails:\n",
      "CLIENT_ID: DB0N3UDWEV3FS5X4SVHT34ETE0M3E4IN0I2F25NQQKHJMIQP\n",
      "CLIENT_SECRET:F5GYEZKYSPXTVZZXYRPLFGLFCSCNNQDEOOD0RLMTWFKPX4K2\n"
     ]
    }
   ],
   "source": [
    "# Please consider below step-1 for reference, other datasets also be processed similarly\n",
    "import pandas as pd\n",
    "import numpy as np\n",
    "from pandas.io.json import json_normalize\n",
    "import folium\n",
    "from geopy.geocoders import Nominatim \n",
    "import requests\n",
    "CLIENT_ID = 'DB0N3UDWEV3FS5X4SVHT34ETE0M3E4IN0I2F25NQQKHJMIQP' # your Foursquare ID\n",
    "CLIENT_SECRET = 'F5GYEZKYSPXTVZZXYRPLFGLFCSCNNQDEOOD0RLMTWFKPX4K2' # your Foursquare Secret\n",
    "VERSION = '20180605' # Foursquare API version\n",
    "\n",
    "print('Your credentails:')\n",
    "print('CLIENT_ID: ' + CLIENT_ID)\n",
    "print('CLIENT_SECRET:' + CLIENT_SECRET)"
   ]
  },
  {
   "cell_type": "code",
   "execution_count": 2,
   "metadata": {},
   "outputs": [],
   "source": [
    "#Setting Singapore city tom extract nearby venues, & then store data in formatted dataframe\n",
    "neighborhood_latitude = 1.290270 \n",
    "neighborhood_longitude = 103.851959\n",
    "url = 'https://api.foursquare.com/v2/venues/explore?client_id=DB0N3UDWEV3FS5X4SVHT34ETE0M3E4IN0I2F25NQQKHJMIQP&client_secret=F5GYEZKYSPXTVZZXYRPLFGLFCSCNNQDEOOD0RLMTWFKPX4K2&ll=1.290270,103.851959&v=20190404&limit=3000&radius=3000'\n",
    "Singapore_json = requests.get(url).json()\n",
    "venues = Singapore_json['response']['groups'][0]['items']\n",
    "df = json_normalize(venues)\n",
    "filtered_columns = ['venue.name', 'venue.categories', 'venue.location.lat', 'venue.location.lng']\n",
    "df_new =df.loc[:, filtered_columns]\n",
    "df_new = df_new[['venue.name', 'venue.categories', 'venue.location.lat', 'venue.location.lng']]"
   ]
  },
  {
   "cell_type": "code",
   "execution_count": 3,
   "metadata": {},
   "outputs": [],
   "source": [
    "#Function will extract name from venue.categories\n",
    "def get_category_type(row):\n",
    "    try:\n",
    "        categories_list = row['categories']\n",
    "    except:\n",
    "        categories_list = row['venue.categories']\n",
    "        \n",
    "    if len(categories_list) == 0:\n",
    "        return None\n",
    "    else:\n",
    "        return categories_list[0]['name']"
   ]
  },
  {
   "cell_type": "code",
   "execution_count": 4,
   "metadata": {},
   "outputs": [
    {
     "data": {
      "text/html": [
       "<div>\n",
       "<style scoped>\n",
       "    .dataframe tbody tr th:only-of-type {\n",
       "        vertical-align: middle;\n",
       "    }\n",
       "\n",
       "    .dataframe tbody tr th {\n",
       "        vertical-align: top;\n",
       "    }\n",
       "\n",
       "    .dataframe thead th {\n",
       "        text-align: right;\n",
       "    }\n",
       "</style>\n",
       "<table border=\"1\" class=\"dataframe\">\n",
       "  <thead>\n",
       "    <tr style=\"text-align: right;\">\n",
       "      <th></th>\n",
       "      <th>name</th>\n",
       "      <th>categories</th>\n",
       "      <th>lat</th>\n",
       "      <th>lng</th>\n",
       "    </tr>\n",
       "  </thead>\n",
       "  <tbody>\n",
       "    <tr>\n",
       "      <th>0</th>\n",
       "      <td>National Gal­lery Singa­pore</td>\n",
       "      <td>Art Gallery</td>\n",
       "      <td>1.290740</td>\n",
       "      <td>103.851548</td>\n",
       "    </tr>\n",
       "    <tr>\n",
       "      <th>1</th>\n",
       "      <td>Esplanade Park</td>\n",
       "      <td>Park</td>\n",
       "      <td>1.288968</td>\n",
       "      <td>103.853580</td>\n",
       "    </tr>\n",
       "    <tr>\n",
       "      <th>2</th>\n",
       "      <td>Esplanade Theatre</td>\n",
       "      <td>Theater</td>\n",
       "      <td>1.289932</td>\n",
       "      <td>103.855037</td>\n",
       "    </tr>\n",
       "  </tbody>\n",
       "</table>\n",
       "</div>"
      ],
      "text/plain": [
       "                           name   categories       lat         lng\n",
       "0  National Gal­lery Singa­pore  Art Gallery  1.290740  103.851548\n",
       "1                Esplanade Park         Park  1.288968  103.853580\n",
       "2             Esplanade Theatre      Theater  1.289932  103.855037"
      ]
     },
     "execution_count": 4,
     "metadata": {},
     "output_type": "execute_result"
    }
   ],
   "source": [
    "# Processed dataframe to finaly use in folium & plot nearby venues\n",
    "df_new['venue.categories'] = df_new.apply(get_category_type, axis=1)\n",
    "df_new.columns = ['name', 'categories', 'lat','lng']\n",
    "df_new.columns = [col.split(\".\")[-1] for col in df_new.columns]\n",
    "df_new.head(3)"
   ]
  }
 ],
 "metadata": {
  "kernelspec": {
   "display_name": "Python 3",
   "language": "python",
   "name": "python3"
  },
  "language_info": {
   "codemirror_mode": {
    "name": "ipython",
    "version": 3
   },
   "file_extension": ".py",
   "mimetype": "text/x-python",
   "name": "python",
   "nbconvert_exporter": "python",
   "pygments_lexer": "ipython3",
   "version": "3.7.1"
  }
 },
 "nbformat": 4,
 "nbformat_minor": 2
}
